{
 "cells": [
  {
   "cell_type": "code",
   "execution_count": 1,
   "metadata": {},
   "outputs": [
    {
     "data": {
      "text/html": [
       "<div>\n",
       "<style scoped>\n",
       "    .dataframe tbody tr th:only-of-type {\n",
       "        vertical-align: middle;\n",
       "    }\n",
       "\n",
       "    .dataframe tbody tr th {\n",
       "        vertical-align: top;\n",
       "    }\n",
       "\n",
       "    .dataframe thead th {\n",
       "        text-align: right;\n",
       "    }\n",
       "</style>\n",
       "<table border=\"1\" class=\"dataframe\">\n",
       "  <thead>\n",
       "    <tr style=\"text-align: right;\">\n",
       "      <th></th>\n",
       "      <th>Pregnancies</th>\n",
       "      <th>Glucose</th>\n",
       "      <th>BloodPressure</th>\n",
       "      <th>SkinThickness</th>\n",
       "      <th>Insulin</th>\n",
       "      <th>BMI</th>\n",
       "      <th>DiabetesPedigreeFunction</th>\n",
       "      <th>Age</th>\n",
       "      <th>Outcome</th>\n",
       "    </tr>\n",
       "  </thead>\n",
       "  <tbody>\n",
       "    <tr>\n",
       "      <td>0</td>\n",
       "      <td>6</td>\n",
       "      <td>148</td>\n",
       "      <td>72</td>\n",
       "      <td>35</td>\n",
       "      <td>0</td>\n",
       "      <td>33.6</td>\n",
       "      <td>0.627</td>\n",
       "      <td>50</td>\n",
       "      <td>1</td>\n",
       "    </tr>\n",
       "    <tr>\n",
       "      <td>1</td>\n",
       "      <td>1</td>\n",
       "      <td>85</td>\n",
       "      <td>66</td>\n",
       "      <td>29</td>\n",
       "      <td>0</td>\n",
       "      <td>26.6</td>\n",
       "      <td>0.351</td>\n",
       "      <td>31</td>\n",
       "      <td>0</td>\n",
       "    </tr>\n",
       "    <tr>\n",
       "      <td>2</td>\n",
       "      <td>8</td>\n",
       "      <td>183</td>\n",
       "      <td>64</td>\n",
       "      <td>0</td>\n",
       "      <td>0</td>\n",
       "      <td>23.3</td>\n",
       "      <td>0.672</td>\n",
       "      <td>32</td>\n",
       "      <td>1</td>\n",
       "    </tr>\n",
       "    <tr>\n",
       "      <td>3</td>\n",
       "      <td>1</td>\n",
       "      <td>89</td>\n",
       "      <td>66</td>\n",
       "      <td>23</td>\n",
       "      <td>94</td>\n",
       "      <td>28.1</td>\n",
       "      <td>0.167</td>\n",
       "      <td>21</td>\n",
       "      <td>0</td>\n",
       "    </tr>\n",
       "    <tr>\n",
       "      <td>4</td>\n",
       "      <td>0</td>\n",
       "      <td>137</td>\n",
       "      <td>40</td>\n",
       "      <td>35</td>\n",
       "      <td>168</td>\n",
       "      <td>43.1</td>\n",
       "      <td>2.288</td>\n",
       "      <td>33</td>\n",
       "      <td>1</td>\n",
       "    </tr>\n",
       "  </tbody>\n",
       "</table>\n",
       "</div>"
      ],
      "text/plain": [
       "   Pregnancies  Glucose  BloodPressure  SkinThickness  Insulin   BMI  \\\n",
       "0            6      148             72             35        0  33.6   \n",
       "1            1       85             66             29        0  26.6   \n",
       "2            8      183             64              0        0  23.3   \n",
       "3            1       89             66             23       94  28.1   \n",
       "4            0      137             40             35      168  43.1   \n",
       "\n",
       "   DiabetesPedigreeFunction  Age  Outcome  \n",
       "0                     0.627   50        1  \n",
       "1                     0.351   31        0  \n",
       "2                     0.672   32        1  \n",
       "3                     0.167   21        0  \n",
       "4                     2.288   33        1  "
      ]
     },
     "execution_count": 1,
     "metadata": {},
     "output_type": "execute_result"
    }
   ],
   "source": [
    "# import necessary libraries\n",
    "import pandas as pd\n",
    "import numpy as np\n",
    "import matplotlib.pyplot as plt\n",
    "# loading the data\n",
    "data = pd.read_csv('diabetes.csv')\n",
    "data.head()"
   ]
  },
  {
   "cell_type": "code",
   "execution_count": 64,
   "metadata": {},
   "outputs": [
    {
     "name": "stdout",
     "output_type": "stream",
     "text": [
      "<class 'pandas.core.frame.DataFrame'>\n",
      "RangeIndex: 768 entries, 0 to 767\n",
      "Data columns (total 9 columns):\n",
      "Pregnancies                 768 non-null int64\n",
      "Glucose                     768 non-null int64\n",
      "BloodPressure               768 non-null int64\n",
      "SkinThickness               768 non-null int64\n",
      "Insulin                     768 non-null int64\n",
      "BMI                         768 non-null float64\n",
      "DiabetesPedigreeFunction    768 non-null float64\n",
      "Age                         768 non-null int64\n",
      "Outcome                     768 non-null int64\n",
      "dtypes: float64(2), int64(7)\n",
      "memory usage: 54.1 KB\n"
     ]
    }
   ],
   "source": [
    "data.info()"
   ]
  },
  {
   "cell_type": "code",
   "execution_count": 65,
   "metadata": {},
   "outputs": [
    {
     "data": {
      "text/html": [
       "<div>\n",
       "<style scoped>\n",
       "    .dataframe tbody tr th:only-of-type {\n",
       "        vertical-align: middle;\n",
       "    }\n",
       "\n",
       "    .dataframe tbody tr th {\n",
       "        vertical-align: top;\n",
       "    }\n",
       "\n",
       "    .dataframe thead th {\n",
       "        text-align: right;\n",
       "    }\n",
       "</style>\n",
       "<table border=\"1\" class=\"dataframe\">\n",
       "  <thead>\n",
       "    <tr style=\"text-align: right;\">\n",
       "      <th></th>\n",
       "      <th>count</th>\n",
       "      <th>mean</th>\n",
       "      <th>std</th>\n",
       "      <th>min</th>\n",
       "      <th>25%</th>\n",
       "      <th>50%</th>\n",
       "      <th>75%</th>\n",
       "      <th>max</th>\n",
       "    </tr>\n",
       "  </thead>\n",
       "  <tbody>\n",
       "    <tr>\n",
       "      <td>Pregnancies</td>\n",
       "      <td>768.0</td>\n",
       "      <td>3.845052</td>\n",
       "      <td>3.369578</td>\n",
       "      <td>0.000</td>\n",
       "      <td>1.00000</td>\n",
       "      <td>3.0000</td>\n",
       "      <td>6.00000</td>\n",
       "      <td>17.00</td>\n",
       "    </tr>\n",
       "    <tr>\n",
       "      <td>Glucose</td>\n",
       "      <td>768.0</td>\n",
       "      <td>120.894531</td>\n",
       "      <td>31.972618</td>\n",
       "      <td>0.000</td>\n",
       "      <td>99.00000</td>\n",
       "      <td>117.0000</td>\n",
       "      <td>140.25000</td>\n",
       "      <td>199.00</td>\n",
       "    </tr>\n",
       "    <tr>\n",
       "      <td>BloodPressure</td>\n",
       "      <td>768.0</td>\n",
       "      <td>69.105469</td>\n",
       "      <td>19.355807</td>\n",
       "      <td>0.000</td>\n",
       "      <td>62.00000</td>\n",
       "      <td>72.0000</td>\n",
       "      <td>80.00000</td>\n",
       "      <td>122.00</td>\n",
       "    </tr>\n",
       "    <tr>\n",
       "      <td>SkinThickness</td>\n",
       "      <td>768.0</td>\n",
       "      <td>20.536458</td>\n",
       "      <td>15.952218</td>\n",
       "      <td>0.000</td>\n",
       "      <td>0.00000</td>\n",
       "      <td>23.0000</td>\n",
       "      <td>32.00000</td>\n",
       "      <td>99.00</td>\n",
       "    </tr>\n",
       "    <tr>\n",
       "      <td>Insulin</td>\n",
       "      <td>768.0</td>\n",
       "      <td>79.799479</td>\n",
       "      <td>115.244002</td>\n",
       "      <td>0.000</td>\n",
       "      <td>0.00000</td>\n",
       "      <td>30.5000</td>\n",
       "      <td>127.25000</td>\n",
       "      <td>846.00</td>\n",
       "    </tr>\n",
       "    <tr>\n",
       "      <td>BMI</td>\n",
       "      <td>768.0</td>\n",
       "      <td>31.992578</td>\n",
       "      <td>7.884160</td>\n",
       "      <td>0.000</td>\n",
       "      <td>27.30000</td>\n",
       "      <td>32.0000</td>\n",
       "      <td>36.60000</td>\n",
       "      <td>67.10</td>\n",
       "    </tr>\n",
       "    <tr>\n",
       "      <td>DiabetesPedigreeFunction</td>\n",
       "      <td>768.0</td>\n",
       "      <td>0.471876</td>\n",
       "      <td>0.331329</td>\n",
       "      <td>0.078</td>\n",
       "      <td>0.24375</td>\n",
       "      <td>0.3725</td>\n",
       "      <td>0.62625</td>\n",
       "      <td>2.42</td>\n",
       "    </tr>\n",
       "    <tr>\n",
       "      <td>Age</td>\n",
       "      <td>768.0</td>\n",
       "      <td>33.240885</td>\n",
       "      <td>11.760232</td>\n",
       "      <td>21.000</td>\n",
       "      <td>24.00000</td>\n",
       "      <td>29.0000</td>\n",
       "      <td>41.00000</td>\n",
       "      <td>81.00</td>\n",
       "    </tr>\n",
       "    <tr>\n",
       "      <td>Outcome</td>\n",
       "      <td>768.0</td>\n",
       "      <td>0.348958</td>\n",
       "      <td>0.476951</td>\n",
       "      <td>0.000</td>\n",
       "      <td>0.00000</td>\n",
       "      <td>0.0000</td>\n",
       "      <td>1.00000</td>\n",
       "      <td>1.00</td>\n",
       "    </tr>\n",
       "  </tbody>\n",
       "</table>\n",
       "</div>"
      ],
      "text/plain": [
       "                          count        mean         std     min       25%  \\\n",
       "Pregnancies               768.0    3.845052    3.369578   0.000   1.00000   \n",
       "Glucose                   768.0  120.894531   31.972618   0.000  99.00000   \n",
       "BloodPressure             768.0   69.105469   19.355807   0.000  62.00000   \n",
       "SkinThickness             768.0   20.536458   15.952218   0.000   0.00000   \n",
       "Insulin                   768.0   79.799479  115.244002   0.000   0.00000   \n",
       "BMI                       768.0   31.992578    7.884160   0.000  27.30000   \n",
       "DiabetesPedigreeFunction  768.0    0.471876    0.331329   0.078   0.24375   \n",
       "Age                       768.0   33.240885   11.760232  21.000  24.00000   \n",
       "Outcome                   768.0    0.348958    0.476951   0.000   0.00000   \n",
       "\n",
       "                               50%        75%     max  \n",
       "Pregnancies                 3.0000    6.00000   17.00  \n",
       "Glucose                   117.0000  140.25000  199.00  \n",
       "BloodPressure              72.0000   80.00000  122.00  \n",
       "SkinThickness              23.0000   32.00000   99.00  \n",
       "Insulin                    30.5000  127.25000  846.00  \n",
       "BMI                        32.0000   36.60000   67.10  \n",
       "DiabetesPedigreeFunction    0.3725    0.62625    2.42  \n",
       "Age                        29.0000   41.00000   81.00  \n",
       "Outcome                     0.0000    1.00000    1.00  "
      ]
     },
     "execution_count": 65,
     "metadata": {},
     "output_type": "execute_result"
    }
   ],
   "source": [
    "data.describe().T "
   ]
  },
  {
   "cell_type": "code",
   "execution_count": 2,
   "metadata": {},
   "outputs": [],
   "source": [
    "data['Outcome'] = data['Outcome'].replace([0,1],['non_diabetic', 'Diabetic'])"
   ]
  },
  {
   "cell_type": "markdown",
   "metadata": {},
   "source": [
    "# Can minimum value of below listed columns be zero (0)?\n",
    "\n",
    "On these columns, a value of zero does not make sense and thus indicates missing value.\n",
    "\n",
    "Following columns or variables have an invalid zero value:\n",
    "\n",
    "Glucose\n",
    "\n",
    "BloodPressure\n",
    "\n",
    "SkinThickness\n",
    "\n",
    "Insulin\n",
    "\n",
    "BMI"
   ]
  },
  {
   "cell_type": "code",
   "execution_count": 3,
   "metadata": {},
   "outputs": [
    {
     "name": "stdout",
     "output_type": "stream",
     "text": [
      "Pregnancies                   0\n",
      "Glucose                       5\n",
      "BloodPressure                35\n",
      "SkinThickness               227\n",
      "Insulin                     374\n",
      "BMI                          11\n",
      "DiabetesPedigreeFunction      0\n",
      "Age                           0\n",
      "Outcome                       0\n",
      "dtype: int64\n"
     ]
    }
   ],
   "source": [
    "# It is better to replace zeros with nan since after that counting them would be easier and zeros need to be replaced with suitable values\n",
    "\n",
    "df = data.copy(deep = True)\n",
    "df[['Glucose','BloodPressure','SkinThickness','Insulin','BMI']] = df[['Glucose','BloodPressure','SkinThickness','Insulin','BMI']].replace(0,np.NaN)\n",
    "\n",
    "## showing the count of Nans\n",
    "print(df.isnull().sum())"
   ]
  },
  {
   "cell_type": "code",
   "execution_count": 4,
   "metadata": {},
   "outputs": [],
   "source": [
    "# We can fill the null values either with mean or median\n",
    "df['Glucose'].fillna(df['Glucose'].mean(), inplace = True)\n",
    "df['BloodPressure'].fillna(df['BloodPressure'].mean(), inplace = True)\n",
    "df['SkinThickness'].fillna(df['SkinThickness'].median(), inplace = True)\n",
    "df['Insulin'].fillna(df['Insulin'].median(), inplace = True)\n",
    "df['BMI'].fillna(df['BMI'].median(), inplace = True)"
   ]
  },
  {
   "cell_type": "code",
   "execution_count": 5,
   "metadata": {},
   "outputs": [
    {
     "data": {
      "text/plain": [
       "Pregnancies                 0\n",
       "Glucose                     0\n",
       "BloodPressure               0\n",
       "SkinThickness               0\n",
       "Insulin                     0\n",
       "BMI                         0\n",
       "DiabetesPedigreeFunction    0\n",
       "Age                         0\n",
       "Outcome                     0\n",
       "dtype: int64"
      ]
     },
     "execution_count": 5,
     "metadata": {},
     "output_type": "execute_result"
    }
   ],
   "source": [
    "df.isnull().sum() #  check the values for each column after filling nan values with mean and median"
   ]
  },
  {
   "cell_type": "code",
   "execution_count": 6,
   "metadata": {},
   "outputs": [
    {
     "name": "stdout",
     "output_type": "stream",
     "text": [
      "non_diabetic    500\n",
      "Diabetic        268\n",
      "Name: Outcome, dtype: int64\n"
     ]
    },
    {
     "data": {
      "image/png": "[encoded data removed]",
      "text/plain": [
       "<Figure size 432x288 with 1 Axes>"
      ]
     },
     "metadata": {
      "needs_background": "light"
     },
     "output_type": "display_data"
    }
   ],
   "source": [
    "print(df.Outcome.value_counts())\n",
    "p=df.Outcome.value_counts().plot(kind=\"bar\")"
   ]
  },
  {
   "cell_type": "markdown",
   "metadata": {},
   "source": [
    "From above graph we can conclude that the number of non-diabetics is almost twice the number of diabetic patients"
   ]
  },
  {
   "cell_type": "code",
   "execution_count": 7,
   "metadata": {},
   "outputs": [],
   "source": [
    "col = df.columns[0:8]"
   ]
  },
  {
   "cell_type": "code",
   "execution_count": 8,
   "metadata": {},
   "outputs": [],
   "source": [
    "from sklearn.preprocessing import MinMaxScaler\n",
    "scaler = MinMaxScaler()\n",
    "df[col] = scaler.fit_transform(df[col])"
   ]
  },
  {
   "cell_type": "code",
   "execution_count": 9,
   "metadata": {},
   "outputs": [
    {
     "data": {
      "text/html": [
       "<div>\n",
       "<style scoped>\n",
       "    .dataframe tbody tr th:only-of-type {\n",
       "        vertical-align: middle;\n",
       "    }\n",
       "\n",
       "    .dataframe tbody tr th {\n",
       "        vertical-align: top;\n",
       "    }\n",
       "\n",
       "    .dataframe thead th {\n",
       "        text-align: right;\n",
       "    }\n",
       "</style>\n",
       "<table border=\"1\" class=\"dataframe\">\n",
       "  <thead>\n",
       "    <tr style=\"text-align: right;\">\n",
       "      <th></th>\n",
       "      <th>Pregnancies</th>\n",
       "      <th>Glucose</th>\n",
       "      <th>BloodPressure</th>\n",
       "      <th>SkinThickness</th>\n",
       "      <th>Insulin</th>\n",
       "      <th>BMI</th>\n",
       "      <th>DiabetesPedigreeFunction</th>\n",
       "      <th>Age</th>\n",
       "      <th>Outcome</th>\n",
       "    </tr>\n",
       "  </thead>\n",
       "  <tbody>\n",
       "    <tr>\n",
       "      <td>0</td>\n",
       "      <td>0.352941</td>\n",
       "      <td>0.670968</td>\n",
       "      <td>0.489796</td>\n",
       "      <td>0.304348</td>\n",
       "      <td>0.133413</td>\n",
       "      <td>0.314928</td>\n",
       "      <td>0.234415</td>\n",
       "      <td>0.483333</td>\n",
       "      <td>Diabetic</td>\n",
       "    </tr>\n",
       "    <tr>\n",
       "      <td>1</td>\n",
       "      <td>0.058824</td>\n",
       "      <td>0.264516</td>\n",
       "      <td>0.428571</td>\n",
       "      <td>0.239130</td>\n",
       "      <td>0.133413</td>\n",
       "      <td>0.171779</td>\n",
       "      <td>0.116567</td>\n",
       "      <td>0.166667</td>\n",
       "      <td>non_diabetic</td>\n",
       "    </tr>\n",
       "    <tr>\n",
       "      <td>2</td>\n",
       "      <td>0.470588</td>\n",
       "      <td>0.896774</td>\n",
       "      <td>0.408163</td>\n",
       "      <td>0.239130</td>\n",
       "      <td>0.133413</td>\n",
       "      <td>0.104294</td>\n",
       "      <td>0.253629</td>\n",
       "      <td>0.183333</td>\n",
       "      <td>Diabetic</td>\n",
       "    </tr>\n",
       "    <tr>\n",
       "      <td>3</td>\n",
       "      <td>0.058824</td>\n",
       "      <td>0.290323</td>\n",
       "      <td>0.428571</td>\n",
       "      <td>0.173913</td>\n",
       "      <td>0.096154</td>\n",
       "      <td>0.202454</td>\n",
       "      <td>0.038002</td>\n",
       "      <td>0.000000</td>\n",
       "      <td>non_diabetic</td>\n",
       "    </tr>\n",
       "    <tr>\n",
       "      <td>4</td>\n",
       "      <td>0.000000</td>\n",
       "      <td>0.600000</td>\n",
       "      <td>0.163265</td>\n",
       "      <td>0.304348</td>\n",
       "      <td>0.185096</td>\n",
       "      <td>0.509202</td>\n",
       "      <td>0.943638</td>\n",
       "      <td>0.200000</td>\n",
       "      <td>Diabetic</td>\n",
       "    </tr>\n",
       "  </tbody>\n",
       "</table>\n",
       "</div>"
      ],
      "text/plain": [
       "   Pregnancies   Glucose  BloodPressure  SkinThickness   Insulin       BMI  \\\n",
       "0     0.352941  0.670968       0.489796       0.304348  0.133413  0.314928   \n",
       "1     0.058824  0.264516       0.428571       0.239130  0.133413  0.171779   \n",
       "2     0.470588  0.896774       0.408163       0.239130  0.133413  0.104294   \n",
       "3     0.058824  0.290323       0.428571       0.173913  0.096154  0.202454   \n",
       "4     0.000000  0.600000       0.163265       0.304348  0.185096  0.509202   \n",
       "\n",
       "   DiabetesPedigreeFunction       Age       Outcome  \n",
       "0                  0.234415  0.483333      Diabetic  \n",
       "1                  0.116567  0.166667  non_diabetic  \n",
       "2                  0.253629  0.183333      Diabetic  \n",
       "3                  0.038002  0.000000  non_diabetic  \n",
       "4                  0.943638  0.200000      Diabetic  "
      ]
     },
     "execution_count": 9,
     "metadata": {},
     "output_type": "execute_result"
    }
   ],
   "source": [
    "df.head()"
   ]
  },
  {
   "cell_type": "code",
   "execution_count": 16,
   "metadata": {},
   "outputs": [],
   "source": [
    "import random\n",
    "def train_test_split(data, split, train_data = [], test_data = []):\n",
    "    for x in range(len(data)):\n",
    "        if random.random() < split:\n",
    "            train_data.append(data.loc[x])\n",
    "        else:\n",
    "            test_data.append(data.loc[x])"
   ]
  },
  {
   "cell_type": "code",
   "execution_count": 17,
   "metadata": {},
   "outputs": [],
   "source": [
    "train_data = []\n",
    "test_data = []\n",
    "split = 0.7\n",
    "train_test_split(df, split, train_data, test_data)"
   ]
  },
  {
   "cell_type": "code",
   "execution_count": 18,
   "metadata": {},
   "outputs": [
    {
     "name": "stdout",
     "output_type": "stream",
     "text": [
      "529\n",
      "239\n"
     ]
    }
   ],
   "source": [
    "print(len(train_data))\n",
    "print(len(test_data))"
   ]
  },
  {
   "cell_type": "code",
   "execution_count": 19,
   "metadata": {},
   "outputs": [],
   "source": [
    "#Define Euclidean distances\n",
    "import math\n",
    "def Euclideandist(x,xi, length):\n",
    "    d = 0.0\n",
    "    for i in range(length):\n",
    "        d += pow(float(x[i])- float(xi[i]),2)\n",
    "    return math.sqrt(d)"
   ]
  },
  {
   "cell_type": "code",
   "execution_count": 20,
   "metadata": {},
   "outputs": [],
   "source": [
    "#Getting the K neighbours having the closest Euclidean distance to the test data\n",
    "import operator\n",
    "def getNeighbors(train_data, test_data, k):\n",
    "    distances = []\n",
    "    length = len(test_data)-1\n",
    "    for x in range(len(train_data)):\n",
    "        dist = Euclideandist(test_data, train_data[x], length)\n",
    "        distances.append((train_data[x], dist))\n",
    "    distances.sort(key=operator.itemgetter(1))\n",
    "    neighbors = []\n",
    "    for x in range(k):\n",
    "        neighbors.append(distances[x][0])\n",
    "    return neighbors"
   ]
  },
  {
   "cell_type": "code",
   "execution_count": 21,
   "metadata": {},
   "outputs": [],
   "source": [
    "#After sorting the neighbours based on their respective classes, max voting to give the final class of the test data\n",
    "import operator\n",
    "def getResponse(neighbors):\n",
    "    Votes = {}\n",
    "    for x in range(len(neighbors)):\n",
    "        response = neighbors[x][-1]\n",
    "        if response in Votes:\n",
    "            Votes[response] += 1\n",
    "        else:\n",
    "            Votes[response] = 1\n",
    "    sortedVotes = sorted(Votes.items(), key=operator.itemgetter(1), reverse=True)#Sorting it based on votes\n",
    "    return sortedVotes[0][0] #Please note we need the class for the top voted class, hence [0][0]"
   ]
  },
  {
   "cell_type": "code",
   "execution_count": 22,
   "metadata": {},
   "outputs": [],
   "source": [
    "#Getting the accuracy\n",
    "def getAccuracy(test_data, predictions):\n",
    "    correct = 0\n",
    "    for x in range(len(test_data)):\n",
    "        if test_data[x][-1] == predictions[x]:\n",
    "            correct += 1\n",
    "    return (correct/float(len(test_data))) * 100.0"
   ]
  },
  {
   "cell_type": "code",
   "execution_count": 23,
   "metadata": {},
   "outputs": [
    {
     "name": "stdout",
     "output_type": "stream",
     "text": [
      "> predicted='non_diabetic', actual='Diabetic'\n",
      "> predicted='Diabetic', actual='non_diabetic'\n",
      "> predicted='Diabetic', actual='Diabetic'\n",
      "> predicted='non_diabetic', actual='non_diabetic'\n",
      "> predicted='non_diabetic', actual='Diabetic'\n",
      "> predicted='non_diabetic', actual='Diabetic'\n",
      "> predicted='non_diabetic', actual='Diabetic'\n",
      "> predicted='Diabetic', actual='Diabetic'\n",
      "> predicted='Diabetic', actual='non_diabetic'\n",
      "> predicted='Diabetic', actual='Diabetic'\n",
      "> predicted='Diabetic', actual='non_diabetic'\n",
      "> predicted='non_diabetic', actual='Diabetic'\n",
      "> predicted='Diabetic', actual='non_diabetic'\n",
      "> predicted='non_diabetic', actual='non_diabetic'\n",
      "> predicted='non_diabetic', actual='Diabetic'\n",
      "> predicted='non_diabetic', actual='non_diabetic'\n",
      "> predicted='non_diabetic', actual='non_diabetic'\n",
      "> predicted='non_diabetic', actual='non_diabetic'\n",
      "> predicted='non_diabetic', actual='non_diabetic'\n",
      "> predicted='non_diabetic', actual='non_diabetic'\n",
      "> predicted='Diabetic', actual='non_diabetic'\n",
      "> predicted='non_diabetic', actual='non_diabetic'\n",
      "> predicted='non_diabetic', actual='non_diabetic'\n",
      "> predicted='Diabetic', actual='Diabetic'\n",
      "> predicted='non_diabetic', actual='non_diabetic'\n",
      "> predicted='non_diabetic', actual='non_diabetic'\n",
      "> predicted='non_diabetic', actual='non_diabetic'\n",
      "> predicted='non_diabetic', actual='non_diabetic'\n",
      "> predicted='non_diabetic', actual='non_diabetic'\n",
      "> predicted='Diabetic', actual='Diabetic'\n",
      "> predicted='non_diabetic', actual='non_diabetic'\n",
      "> predicted='Diabetic', actual='non_diabetic'\n",
      "> predicted='non_diabetic', actual='non_diabetic'\n",
      "> predicted='non_diabetic', actual='non_diabetic'\n",
      "> predicted='non_diabetic', actual='Diabetic'\n",
      "> predicted='non_diabetic', actual='non_diabetic'\n",
      "> predicted='non_diabetic', actual='non_diabetic'\n",
      "> predicted='non_diabetic', actual='non_diabetic'\n",
      "> predicted='non_diabetic', actual='non_diabetic'\n",
      "> predicted='non_diabetic', actual='Diabetic'\n",
      "> predicted='non_diabetic', actual='non_diabetic'\n",
      "> predicted='Diabetic', actual='Diabetic'\n",
      "> predicted='non_diabetic', actual='non_diabetic'\n",
      "> predicted='non_diabetic', actual='non_diabetic'\n",
      "> predicted='non_diabetic', actual='non_diabetic'\n",
      "> predicted='non_diabetic', actual='Diabetic'\n",
      "> predicted='non_diabetic', actual='non_diabetic'\n",
      "> predicted='non_diabetic', actual='non_diabetic'\n",
      "> predicted='Diabetic', actual='Diabetic'\n",
      "> predicted='Diabetic', actual='non_diabetic'\n",
      "> predicted='non_diabetic', actual='non_diabetic'\n",
      "> predicted='Diabetic', actual='Diabetic'\n",
      "> predicted='non_diabetic', actual='non_diabetic'\n",
      "> predicted='non_diabetic', actual='non_diabetic'\n",
      "> predicted='non_diabetic', actual='non_diabetic'\n",
      "> predicted='Diabetic', actual='Diabetic'\n",
      "> predicted='Diabetic', actual='Diabetic'\n",
      "> predicted='Diabetic', actual='Diabetic'\n",
      "> predicted='Diabetic', actual='Diabetic'\n",
      "> predicted='non_diabetic', actual='non_diabetic'\n",
      "> predicted='non_diabetic', actual='non_diabetic'\n",
      "> predicted='non_diabetic', actual='Diabetic'\n",
      "> predicted='non_diabetic', actual='Diabetic'\n",
      "> predicted='non_diabetic', actual='non_diabetic'\n",
      "> predicted='Diabetic', actual='non_diabetic'\n",
      "> predicted='non_diabetic', actual='non_diabetic'\n",
      "> predicted='non_diabetic', actual='non_diabetic'\n",
      "> predicted='non_diabetic', actual='Diabetic'\n",
      "> predicted='Diabetic', actual='Diabetic'\n",
      "> predicted='non_diabetic', actual='Diabetic'\n",
      "> predicted='Diabetic', actual='non_diabetic'\n",
      "> predicted='Diabetic', actual='Diabetic'\n",
      "> predicted='Diabetic', actual='non_diabetic'\n",
      "> predicted='non_diabetic', actual='non_diabetic'\n",
      "> predicted='Diabetic', actual='non_diabetic'\n",
      "> predicted='Diabetic', actual='non_diabetic'\n",
      "> predicted='non_diabetic', actual='Diabetic'\n",
      "> predicted='non_diabetic', actual='non_diabetic'\n",
      "> predicted='Diabetic', actual='Diabetic'\n",
      "> predicted='Diabetic', actual='Diabetic'\n",
      "> predicted='non_diabetic', actual='non_diabetic'\n",
      "> predicted='non_diabetic', actual='non_diabetic'\n",
      "> predicted='non_diabetic', actual='Diabetic'\n",
      "> predicted='Diabetic', actual='non_diabetic'\n",
      "> predicted='non_diabetic', actual='non_diabetic'\n",
      "> predicted='non_diabetic', actual='Diabetic'\n",
      "> predicted='Diabetic', actual='non_diabetic'\n",
      "> predicted='non_diabetic', actual='Diabetic'\n",
      "> predicted='non_diabetic', actual='Diabetic'\n",
      "> predicted='non_diabetic', actual='non_diabetic'\n",
      "> predicted='non_diabetic', actual='Diabetic'\n",
      "> predicted='non_diabetic', actual='non_diabetic'\n",
      "> predicted='non_diabetic', actual='non_diabetic'\n",
      "> predicted='Diabetic', actual='Diabetic'\n",
      "> predicted='Diabetic', actual='non_diabetic'\n",
      "> predicted='non_diabetic', actual='Diabetic'\n",
      "> predicted='non_diabetic', actual='Diabetic'\n",
      "> predicted='non_diabetic', actual='non_diabetic'\n",
      "> predicted='non_diabetic', actual='non_diabetic'\n",
      "> predicted='Diabetic', actual='Diabetic'\n",
      "> predicted='non_diabetic', actual='non_diabetic'\n",
      "> predicted='Diabetic', actual='non_diabetic'\n",
      "> predicted='non_diabetic', actual='Diabetic'\n",
      "> predicted='Diabetic', actual='Diabetic'\n",
      "> predicted='Diabetic', actual='non_diabetic'\n",
      "> predicted='Diabetic', actual='non_diabetic'\n",
      "> predicted='Diabetic', actual='non_diabetic'\n",
      "> predicted='non_diabetic', actual='non_diabetic'\n",
      "> predicted='non_diabetic', actual='Diabetic'\n",
      "> predicted='non_diabetic', actual='non_diabetic'\n",
      "> predicted='non_diabetic', actual='non_diabetic'\n",
      "> predicted='non_diabetic', actual='non_diabetic'\n",
      "> predicted='non_diabetic', actual='non_diabetic'\n",
      "> predicted='non_diabetic', actual='non_diabetic'\n",
      "> predicted='non_diabetic', actual='non_diabetic'\n",
      "> predicted='non_diabetic', actual='non_diabetic'\n",
      "> predicted='Diabetic', actual='Diabetic'\n",
      "> predicted='non_diabetic', actual='Diabetic'\n",
      "> predicted='Diabetic', actual='Diabetic'\n",
      "> predicted='Diabetic', actual='Diabetic'\n",
      "> predicted='non_diabetic', actual='non_diabetic'\n",
      "> predicted='non_diabetic', actual='Diabetic'\n",
      "> predicted='non_diabetic', actual='non_diabetic'\n",
      "> predicted='non_diabetic', actual='Diabetic'\n",
      "> predicted='non_diabetic', actual='non_diabetic'\n",
      "> predicted='non_diabetic', actual='non_diabetic'\n",
      "> predicted='non_diabetic', actual='Diabetic'\n",
      "> predicted='Diabetic', actual='Diabetic'\n",
      "> predicted='non_diabetic', actual='non_diabetic'\n",
      "> predicted='non_diabetic', actual='non_diabetic'\n",
      "> predicted='non_diabetic', actual='Diabetic'\n",
      "> predicted='Diabetic', actual='Diabetic'\n",
      "> predicted='Diabetic', actual='Diabetic'\n",
      "> predicted='non_diabetic', actual='non_diabetic'\n",
      "> predicted='non_diabetic', actual='non_diabetic'\n",
      "> predicted='non_diabetic', actual='non_diabetic'\n",
      "> predicted='non_diabetic', actual='non_diabetic'\n",
      "> predicted='non_diabetic', actual='non_diabetic'\n",
      "> predicted='Diabetic', actual='Diabetic'\n",
      "> predicted='Diabetic', actual='Diabetic'\n",
      "> predicted='non_diabetic', actual='non_diabetic'\n",
      "> predicted='non_diabetic', actual='non_diabetic'\n",
      "> predicted='non_diabetic', actual='non_diabetic'\n",
      "> predicted='non_diabetic', actual='non_diabetic'\n",
      "> predicted='non_diabetic', actual='Diabetic'\n",
      "> predicted='Diabetic', actual='non_diabetic'\n",
      "> predicted='Diabetic', actual='Diabetic'\n",
      "> predicted='Diabetic', actual='Diabetic'\n",
      "> predicted='non_diabetic', actual='non_diabetic'\n",
      "> predicted='non_diabetic', actual='non_diabetic'\n",
      "> predicted='Diabetic', actual='Diabetic'\n",
      "> predicted='non_diabetic', actual='non_diabetic'\n",
      "> predicted='non_diabetic', actual='non_diabetic'\n",
      "> predicted='non_diabetic', actual='non_diabetic'\n",
      "> predicted='non_diabetic', actual='Diabetic'\n",
      "> predicted='non_diabetic', actual='Diabetic'\n",
      "> predicted='Diabetic', actual='non_diabetic'\n",
      "> predicted='non_diabetic', actual='non_diabetic'\n",
      "> predicted='non_diabetic', actual='non_diabetic'\n",
      "> predicted='non_diabetic', actual='non_diabetic'\n",
      "> predicted='non_diabetic', actual='non_diabetic'\n",
      "> predicted='non_diabetic', actual='Diabetic'\n",
      "> predicted='non_diabetic', actual='non_diabetic'\n",
      "> predicted='non_diabetic', actual='non_diabetic'\n",
      "> predicted='non_diabetic', actual='non_diabetic'\n",
      "> predicted='non_diabetic', actual='non_diabetic'\n",
      "> predicted='non_diabetic', actual='non_diabetic'\n",
      "> predicted='non_diabetic', actual='non_diabetic'\n",
      "> predicted='non_diabetic', actual='non_diabetic'\n",
      "> predicted='Diabetic', actual='Diabetic'\n",
      "> predicted='non_diabetic', actual='non_diabetic'\n",
      "> predicted='non_diabetic', actual='non_diabetic'\n",
      "> predicted='non_diabetic', actual='non_diabetic'\n",
      "> predicted='Diabetic', actual='non_diabetic'\n",
      "> predicted='non_diabetic', actual='Diabetic'\n",
      "> predicted='Diabetic', actual='Diabetic'\n"
     ]
    },
    {
     "name": "stdout",
     "output_type": "stream",
     "text": [
      "> predicted='non_diabetic', actual='non_diabetic'\n",
      "> predicted='non_diabetic', actual='non_diabetic'\n",
      "> predicted='non_diabetic', actual='non_diabetic'\n",
      "> predicted='non_diabetic', actual='non_diabetic'\n",
      "> predicted='non_diabetic', actual='non_diabetic'\n",
      "> predicted='non_diabetic', actual='non_diabetic'\n",
      "> predicted='Diabetic', actual='Diabetic'\n",
      "> predicted='non_diabetic', actual='non_diabetic'\n",
      "> predicted='non_diabetic', actual='non_diabetic'\n",
      "> predicted='non_diabetic', actual='Diabetic'\n",
      "> predicted='non_diabetic', actual='non_diabetic'\n",
      "> predicted='non_diabetic', actual='non_diabetic'\n",
      "> predicted='non_diabetic', actual='non_diabetic'\n",
      "> predicted='non_diabetic', actual='non_diabetic'\n",
      "> predicted='non_diabetic', actual='non_diabetic'\n",
      "> predicted='Diabetic', actual='non_diabetic'\n",
      "> predicted='non_diabetic', actual='non_diabetic'\n",
      "> predicted='non_diabetic', actual='non_diabetic'\n",
      "> predicted='Diabetic', actual='Diabetic'\n",
      "> predicted='Diabetic', actual='Diabetic'\n",
      "> predicted='non_diabetic', actual='non_diabetic'\n",
      "> predicted='non_diabetic', actual='non_diabetic'\n",
      "> predicted='non_diabetic', actual='non_diabetic'\n",
      "> predicted='Diabetic', actual='Diabetic'\n",
      "> predicted='Diabetic', actual='non_diabetic'\n",
      "> predicted='non_diabetic', actual='non_diabetic'\n",
      "> predicted='non_diabetic', actual='non_diabetic'\n",
      "> predicted='non_diabetic', actual='non_diabetic'\n",
      "> predicted='non_diabetic', actual='non_diabetic'\n",
      "> predicted='Diabetic', actual='Diabetic'\n",
      "> predicted='non_diabetic', actual='non_diabetic'\n",
      "> predicted='non_diabetic', actual='non_diabetic'\n",
      "> predicted='non_diabetic', actual='non_diabetic'\n",
      "> predicted='non_diabetic', actual='non_diabetic'\n",
      "> predicted='Diabetic', actual='Diabetic'\n",
      "> predicted='Diabetic', actual='Diabetic'\n",
      "> predicted='non_diabetic', actual='Diabetic'\n",
      "> predicted='Diabetic', actual='non_diabetic'\n",
      "> predicted='Diabetic', actual='non_diabetic'\n",
      "> predicted='non_diabetic', actual='non_diabetic'\n",
      "> predicted='non_diabetic', actual='Diabetic'\n",
      "> predicted='Diabetic', actual='Diabetic'\n",
      "> predicted='Diabetic', actual='non_diabetic'\n",
      "> predicted='non_diabetic', actual='Diabetic'\n",
      "> predicted='non_diabetic', actual='non_diabetic'\n",
      "> predicted='non_diabetic', actual='Diabetic'\n",
      "> predicted='Diabetic', actual='Diabetic'\n",
      "> predicted='Diabetic', actual='Diabetic'\n",
      "> predicted='non_diabetic', actual='Diabetic'\n",
      "> predicted='non_diabetic', actual='non_diabetic'\n",
      "> predicted='Diabetic', actual='Diabetic'\n",
      "> predicted='non_diabetic', actual='non_diabetic'\n",
      "> predicted='non_diabetic', actual='non_diabetic'\n",
      "> predicted='non_diabetic', actual='non_diabetic'\n",
      "> predicted='Diabetic', actual='Diabetic'\n",
      "> predicted='non_diabetic', actual='non_diabetic'\n",
      "> predicted='Diabetic', actual='non_diabetic'\n",
      "> predicted='Diabetic', actual='non_diabetic'\n",
      "> predicted='non_diabetic', actual='Diabetic'\n",
      "> predicted='non_diabetic', actual='non_diabetic'\n",
      "> predicted='non_diabetic', actual='Diabetic'\n",
      "> predicted='non_diabetic', actual='Diabetic'\n",
      "> predicted='non_diabetic', actual='non_diabetic'\n"
     ]
    }
   ],
   "source": [
    "# generate predictions\n",
    "predictions=[]\n",
    "k = 3 # hyperparameter\n",
    "# just to display the output\n",
    "for x in range(len(test_data)):\n",
    "    neighbors = getNeighbors(train_data, test_data[x], k)\n",
    "    result = getResponse(neighbors)\n",
    "    predictions.append(result)\n",
    "    print('> predicted=' + repr(result) + ', actual=' + repr(test_data[x][-1]))"
   ]
  },
  {
   "cell_type": "code",
   "execution_count": 24,
   "metadata": {},
   "outputs": [
    {
     "name": "stdout",
     "output_type": "stream",
     "text": [
      "Accuracy: 70.29288702928869%\n"
     ]
    }
   ],
   "source": [
    "accuracy = getAccuracy(test_data, predictions)\n",
    "print('Accuracy: ' + repr(accuracy) + '%')"
   ]
  },
  {
   "cell_type": "markdown",
   "metadata": {},
   "source": [
    "# KNN using Scikit learn"
   ]
  },
  {
   "cell_type": "code",
   "execution_count": 25,
   "metadata": {},
   "outputs": [],
   "source": [
    "from sklearn.preprocessing import StandardScaler\n",
    "scaler = StandardScaler()\n",
    "df['Outcome'] = df['Outcome'].replace(['non_diabetic', 'Diabetic'],[0,1]) \n",
    "X =  pd.DataFrame(scaler.fit_transform(df.drop([\"Outcome\"],axis = 1),),\n",
    "        columns=['Pregnancies', 'Glucose', 'BloodPressure', 'SkinThickness', 'Insulin',\n",
    "       'BMI', 'DiabetesPedigreeFunction', 'Age'])"
   ]
  },
  {
   "cell_type": "code",
   "execution_count": 26,
   "metadata": {},
   "outputs": [
    {
     "data": {
      "text/html": [
       "<div>\n",
       "<style scoped>\n",
       "    .dataframe tbody tr th:only-of-type {\n",
       "        vertical-align: middle;\n",
       "    }\n",
       "\n",
       "    .dataframe tbody tr th {\n",
       "        vertical-align: top;\n",
       "    }\n",
       "\n",
       "    .dataframe thead th {\n",
       "        text-align: right;\n",
       "    }\n",
       "</style>\n",
       "<table border=\"1\" class=\"dataframe\">\n",
       "  <thead>\n",
       "    <tr style=\"text-align: right;\">\n",
       "      <th></th>\n",
       "      <th>Pregnancies</th>\n",
       "      <th>Glucose</th>\n",
       "      <th>BloodPressure</th>\n",
       "      <th>SkinThickness</th>\n",
       "      <th>Insulin</th>\n",
       "      <th>BMI</th>\n",
       "      <th>DiabetesPedigreeFunction</th>\n",
       "      <th>Age</th>\n",
       "    </tr>\n",
       "  </thead>\n",
       "  <tbody>\n",
       "    <tr>\n",
       "      <td>0</td>\n",
       "      <td>0.639947</td>\n",
       "      <td>0.865108</td>\n",
       "      <td>-0.033518</td>\n",
       "      <td>0.670643</td>\n",
       "      <td>-0.181541</td>\n",
       "      <td>0.166619</td>\n",
       "      <td>0.468492</td>\n",
       "      <td>1.425995</td>\n",
       "    </tr>\n",
       "    <tr>\n",
       "      <td>1</td>\n",
       "      <td>-0.844885</td>\n",
       "      <td>-1.206162</td>\n",
       "      <td>-0.529859</td>\n",
       "      <td>-0.012301</td>\n",
       "      <td>-0.181541</td>\n",
       "      <td>-0.852200</td>\n",
       "      <td>-0.365061</td>\n",
       "      <td>-0.190672</td>\n",
       "    </tr>\n",
       "    <tr>\n",
       "      <td>2</td>\n",
       "      <td>1.233880</td>\n",
       "      <td>2.015813</td>\n",
       "      <td>-0.695306</td>\n",
       "      <td>-0.012301</td>\n",
       "      <td>-0.181541</td>\n",
       "      <td>-1.332500</td>\n",
       "      <td>0.604397</td>\n",
       "      <td>-0.105584</td>\n",
       "    </tr>\n",
       "    <tr>\n",
       "      <td>3</td>\n",
       "      <td>-0.844885</td>\n",
       "      <td>-1.074652</td>\n",
       "      <td>-0.529859</td>\n",
       "      <td>-0.695245</td>\n",
       "      <td>-0.540642</td>\n",
       "      <td>-0.633881</td>\n",
       "      <td>-0.920763</td>\n",
       "      <td>-1.041549</td>\n",
       "    </tr>\n",
       "    <tr>\n",
       "      <td>4</td>\n",
       "      <td>-1.141852</td>\n",
       "      <td>0.503458</td>\n",
       "      <td>-2.680669</td>\n",
       "      <td>0.670643</td>\n",
       "      <td>0.316566</td>\n",
       "      <td>1.549303</td>\n",
       "      <td>5.484909</td>\n",
       "      <td>-0.020496</td>\n",
       "    </tr>\n",
       "  </tbody>\n",
       "</table>\n",
       "</div>"
      ],
      "text/plain": [
       "   Pregnancies   Glucose  BloodPressure  SkinThickness   Insulin       BMI  \\\n",
       "0     0.639947  0.865108      -0.033518       0.670643 -0.181541  0.166619   \n",
       "1    -0.844885 -1.206162      -0.529859      -0.012301 -0.181541 -0.852200   \n",
       "2     1.233880  2.015813      -0.695306      -0.012301 -0.181541 -1.332500   \n",
       "3    -0.844885 -1.074652      -0.529859      -0.695245 -0.540642 -0.633881   \n",
       "4    -1.141852  0.503458      -2.680669       0.670643  0.316566  1.549303   \n",
       "\n",
       "   DiabetesPedigreeFunction       Age  \n",
       "0                  0.468492  1.425995  \n",
       "1                 -0.365061 -0.190672  \n",
       "2                  0.604397 -0.105584  \n",
       "3                 -0.920763 -1.041549  \n",
       "4                  5.484909 -0.020496  "
      ]
     },
     "execution_count": 26,
     "metadata": {},
     "output_type": "execute_result"
    }
   ],
   "source": [
    "X.head()"
   ]
  },
  {
   "cell_type": "code",
   "execution_count": 28,
   "metadata": {},
   "outputs": [],
   "source": [
    "Y = df['Outcome']"
   ]
  },
  {
   "cell_type": "code",
   "execution_count": 29,
   "metadata": {},
   "outputs": [
    {
     "data": {
      "text/plain": [
       "0      1\n",
       "1      0\n",
       "2      1\n",
       "3      0\n",
       "4      1\n",
       "      ..\n",
       "763    0\n",
       "764    0\n",
       "765    0\n",
       "766    1\n",
       "767    0\n",
       "Name: Outcome, Length: 768, dtype: int64"
      ]
     },
     "execution_count": 29,
     "metadata": {},
     "output_type": "execute_result"
    }
   ],
   "source": [
    "Y"
   ]
  },
  {
   "cell_type": "code",
   "execution_count": 30,
   "metadata": {},
   "outputs": [],
   "source": [
    "from sklearn.model_selection import train_test_split\n",
    "X_train,X_test,y_train,y_test = train_test_split(X,Y,test_size=1/3,random_state=42, stratify=Y)"
   ]
  },
  {
   "cell_type": "code",
   "execution_count": 31,
   "metadata": {},
   "outputs": [
    {
     "name": "stdout",
     "output_type": "stream",
     "text": [
      "512\n",
      "256\n",
      "512\n",
      "256\n"
     ]
    }
   ],
   "source": [
    "print(len(X_train))\n",
    "print(len(X_test))\n",
    "print(len(y_train))\n",
    "print(len(y_test))"
   ]
  },
  {
   "cell_type": "code",
   "execution_count": 32,
   "metadata": {},
   "outputs": [
    {
     "name": "stdout",
     "output_type": "stream",
     "text": [
      "\n",
      "****Test accuracy for k = 3 is 74%\n",
      "\n",
      "****Test accuracy for k = 4 is 74%\n",
      "\n",
      "****Test accuracy for k = 5 is 74%\n",
      "\n",
      "****Test accuracy for k = 6 is 72%\n",
      "\n",
      "****Test accuracy for k = 7 is 74%\n",
      "\n",
      "****Test accuracy for k = 8 is 74%\n",
      "\n",
      "****Test accuracy for k = 9 is 74%\n",
      "\n",
      "****Test accuracy for k = 10 is 73%\n",
      "\n",
      "****Test accuracy for k = 11 is 76%\n",
      "\n",
      "****Test accuracy for k = 12 is 73%\n",
      "\n",
      "****Test accuracy for k = 13 is 75%\n",
      "\n",
      "****Test accuracy for k = 14 is 73%\n",
      "\n",
      "****Test accuracy for k = 15 is 73%\n",
      "\n",
      "****Test accuracy for k = 16 is 73%\n",
      "\n",
      "****Test accuracy for k = 17 is 75%\n",
      "\n",
      "****Test accuracy for k = 18 is 73%\n",
      "\n",
      "****Test accuracy for k = 19 is 74%\n",
      "\n",
      "****Test accuracy for k = 20 is 74%\n",
      "\n",
      "****Test accuracy for k = 21 is 75%\n",
      "\n",
      "****Test accuracy for k = 22 is 74%\n",
      "\n",
      "****Test accuracy for k = 23 is 76%\n",
      "\n",
      "****Test accuracy for k = 24 is 75%\n",
      "\n",
      "****Test accuracy for k = 25 is 74%\n",
      "\n",
      "****Test accuracy for k = 26 is 75%\n",
      "\n",
      "****Test accuracy for k = 27 is 74%\n",
      "\n",
      "****Test accuracy for k = 28 is 73%\n",
      "\n",
      "****Test accuracy for k = 29 is 73%\n"
     ]
    }
   ],
   "source": [
    "from sklearn.neighbors import KNeighborsClassifier\n",
    "from sklearn.metrics import accuracy_score\n",
    "# K-NN model\n",
    "train_score = []\n",
    "test_score = []\n",
    "for i in range(3,30):\n",
    "\n",
    "    knn = KNeighborsClassifier(i)\n",
    "    knn.fit(X_train,y_train)\n",
    "    train_score.append(knn.score(X_train,y_train))\n",
    "    pred = knn.predict(X_test)\n",
    "    acc = accuracy_score(y_test, pred, normalize=True) * float(100)\n",
    "    print('\\n****Test accuracy for k = %d is %d%%' % (i,acc))\n",
    "    test_score.append(knn.score(X_test,y_test))"
   ]
  },
  {
   "cell_type": "code",
   "execution_count": 33,
   "metadata": {},
   "outputs": [
    {
     "data": {
      "image/png": "[encoded data removed]",
      "text/plain": [
       "<Figure size 864x360 with 1 Axes>"
      ]
     },
     "metadata": {
      "needs_background": "light"
     },
     "output_type": "display_data"
    }
   ],
   "source": [
    "import seaborn as sns\n",
    "plt.figure(figsize=(12,5))\n",
    "p = sns.lineplot(range(3,30),train_score,marker='*',label='Train Score')\n",
    "p = sns.lineplot(range(3,30),test_score,marker='o',label='Test Score')"
   ]
  },
  {
   "cell_type": "code",
   "execution_count": 141,
   "metadata": {},
   "outputs": [
    {
     "data": {
      "image/png": "[encoded data removed]",
      "text/plain": [
       "<Figure size 432x288 with 1 Axes>"
      ]
     },
     "metadata": {
      "needs_background": "light"
     },
     "output_type": "display_data"
    }
   ],
   "source": [
    "#pip install mlxtend  \n",
    "import warnings\n",
    "warnings.filterwarnings('ignore')\n",
    "from mlxtend.plotting import plot_decision_regions\n",
    "value = 20000\n",
    "width = 20000\n",
    "plot_decision_regions(X.values, Y.values, clf=knn, legend=2, \n",
    "                      filler_feature_values={2: value, 3: value, 4: value, 5: value, 6: value, 7: value},\n",
    "                      filler_feature_ranges={2: width, 3: width, 4: width, 5: width, 6: width, 7: width},\n",
    "                      X_highlight=X_test.values)\n",
    "\n",
    "plt.title('KNN with Diabetes Data')\n",
    "plt.show()"
   ]
  },
  {
   "cell_type": "markdown",
   "metadata": {},
   "source": [
    "# Other Metrics"
   ]
  },
  {
   "cell_type": "markdown",
   "metadata": {},
   "source": [
    "## 1. Confusion Matrix\n",
    "\n",
    "The confusion matrix is a technique used for summarizing the performance of a classification algorithm i.e. it has binary outputs.\n",
    "![](https://cdn-images-1.medium.com/max/1600/0*-GAP6jhtJvt7Bqiv.png)\n",
    "\n",
    "\n",
    "\n",
    "### ***In the famous cancer example***:\n",
    "\n",
    "\n",
    "###### Cases in which the doctor predicted YES (they have the disease), and they do have the disease will be termed as TRUE POSITIVES (TP). The doctor has correctly predicted that the patient has the disease.\n",
    "\n",
    "###### Cases in which the doctor predicted NO (they do not have the disease), and they don’t have the disease will be termed as TRUE NEGATIVES (TN). The doctor has correctly predicted that the patient does not have the disease.\n",
    "\n",
    "###### Cases in which the doctor predicted YES, and they do not have the disease will be termed as FALSE POSITIVES (FP). Also known as “Type I error”.\n",
    "\n",
    "###### Cases in which the doctor predicted NO, and they have the disease will be termed as FALSE NEGATIVES (FN). Also known as “Type II error”.\n",
    "\n",
    "![](https://cdn-images-1.medium.com/max/1600/0*9r99oJ2PTRi4gYF_.jpg)\n"
   ]
  },
  {
   "cell_type": "code",
   "execution_count": 142,
   "metadata": {},
   "outputs": [
    {
     "data": {
      "text/html": [
       "<div>\n",
       "<style scoped>\n",
       "    .dataframe tbody tr th:only-of-type {\n",
       "        vertical-align: middle;\n",
       "    }\n",
       "\n",
       "    .dataframe tbody tr th {\n",
       "        vertical-align: top;\n",
       "    }\n",
       "\n",
       "    .dataframe thead th {\n",
       "        text-align: right;\n",
       "    }\n",
       "</style>\n",
       "<table border=\"1\" class=\"dataframe\">\n",
       "  <thead>\n",
       "    <tr style=\"text-align: right;\">\n",
       "      <th>Predicted</th>\n",
       "      <th>0</th>\n",
       "      <th>1</th>\n",
       "      <th>All</th>\n",
       "    </tr>\n",
       "    <tr>\n",
       "      <th>True</th>\n",
       "      <th></th>\n",
       "      <th></th>\n",
       "      <th></th>\n",
       "    </tr>\n",
       "  </thead>\n",
       "  <tbody>\n",
       "    <tr>\n",
       "      <td>0</td>\n",
       "      <td>146</td>\n",
       "      <td>21</td>\n",
       "      <td>167</td>\n",
       "    </tr>\n",
       "    <tr>\n",
       "      <td>1</td>\n",
       "      <td>47</td>\n",
       "      <td>42</td>\n",
       "      <td>89</td>\n",
       "    </tr>\n",
       "    <tr>\n",
       "      <td>All</td>\n",
       "      <td>193</td>\n",
       "      <td>63</td>\n",
       "      <td>256</td>\n",
       "    </tr>\n",
       "  </tbody>\n",
       "</table>\n",
       "</div>"
      ],
      "text/plain": [
       "Predicted    0   1  All\n",
       "True                   \n",
       "0          146  21  167\n",
       "1           47  42   89\n",
       "All        193  63  256"
      ]
     },
     "execution_count": 142,
     "metadata": {},
     "output_type": "execute_result"
    }
   ],
   "source": [
    "from sklearn.metrics import confusion_matrix\n",
    "#let us get the predictions using the classifier we had fit above\n",
    "y_pred = knn.predict(X_test)\n",
    "confusion_matrix(y_test,y_pred)\n",
    "pd.crosstab(y_test, y_pred, rownames=['True'], colnames=['Predicted'], margins=True)"
   ]
  },
  {
   "cell_type": "code",
   "execution_count": 150,
   "metadata": {},
   "outputs": [
    {
     "data": {
      "text/plain": [
       "Text(0.5, 24.0, 'Predicted label')"
      ]
     },
     "execution_count": 150,
     "metadata": {},
     "output_type": "execute_result"
    },
    {
     "data": {
      "image/png": "[encoded data removed]",
      "text/plain": [
       "<Figure size 504x360 with 2 Axes>"
      ]
     },
     "metadata": {
      "needs_background": "light"
     },
     "output_type": "display_data"
    }
   ],
   "source": [
    "y_pred = knn.predict(X_test)\n",
    "from sklearn import metrics\n",
    "cnf_matrix = metrics.confusion_matrix(y_test, y_pred)\n",
    "plt.figure(figsize=(7, 5))\n",
    "p = sns.heatmap(pd.DataFrame(cnf_matrix), annot=True, cmap=\"YlGnBu\" ,fmt='g')\n",
    "plt.title('Confusion matrix')\n",
    "plt.ylabel('Actual label')\n",
    "plt.xlabel('Predicted label')"
   ]
  },
  {
   "cell_type": "markdown",
   "metadata": {},
   "source": [
    "# Precision Score"
   ]
  },
  {
   "cell_type": "markdown",
   "metadata": {},
   "source": [
    "TP – True Positives\n",
    "\n",
    "FP – False Positives\n",
    "\n",
    "    Precision – Accuracy of positive predictions.\n",
    "    Precision = TP/(TP + FP)\n"
   ]
  },
  {
   "cell_type": "markdown",
   "metadata": {},
   "source": [
    "# Recall Score"
   ]
  },
  {
   "cell_type": "markdown",
   "metadata": {},
   "source": [
    "FN – False Negatives\n",
    "\n",
    "    Recall(sensitivity or true positive rate): Fraction of positives that were correctly identified.\n",
    "    \n",
    "    Recall = TP/(TP+FN)"
   ]
  },
  {
   "cell_type": "markdown",
   "metadata": {},
   "source": [
    "# F1 Score"
   ]
  },
  {
   "cell_type": "markdown",
   "metadata": {},
   "source": [
    "F1 Score (aka F-Score or F-Measure) – A helpful metric for comparing two classifiers.\n",
    "\n",
    "    F1 Score takes into account precision and the recall.\n",
    "    \n",
    "    It is created by finding the the harmonic mean of precision and recall.\n",
    "\n",
    "    F1 = 2 x (precision x recall)/(precision + recall)\n"
   ]
  },
  {
   "cell_type": "code",
   "execution_count": 151,
   "metadata": {},
   "outputs": [
    {
     "name": "stdout",
     "output_type": "stream",
     "text": [
      "              precision    recall  f1-score   support\n",
      "\n",
      "           0       0.76      0.87      0.81       167\n",
      "           1       0.67      0.47      0.55        89\n",
      "\n",
      "    accuracy                           0.73       256\n",
      "   macro avg       0.71      0.67      0.68       256\n",
      "weighted avg       0.73      0.73      0.72       256\n",
      "\n"
     ]
    }
   ],
   "source": [
    "from sklearn.metrics import classification_report\n",
    "print(classification_report(y_test,y_pred))"
   ]
  },
  {
   "cell_type": "code",
   "execution_count": null,
   "metadata": {},
   "outputs": [],
   "source": []
  }
 ],
 "metadata": {
  "kernelspec": {
   "display_name": "Python 3",
   "language": "python",
   "name": "python3"
  },
  "language_info": {
   "codemirror_mode": {
    "name": "ipython",
    "version": 3
   },
   "file_extension": ".py",
   "mimetype": "text/x-python",
   "name": "python",
   "nbconvert_exporter": "python",
   "pygments_lexer": "ipython3",
   "version": "3.7.4"
  }
 },
 "nbformat": 4,
 "nbformat_minor": 2
}
